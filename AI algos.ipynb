{
  "nbformat": 4,
  "nbformat_minor": 0,
  "metadata": {
    "colab": {
      "provenance": [],
      "authorship_tag": "ABX9TyMs3vX7BFJtfjxCfTzimu9l",
      "include_colab_link": true
    },
    "kernelspec": {
      "name": "python3",
      "display_name": "Python 3"
    },
    "language_info": {
      "name": "python"
    }
  },
  "cells": [
    {
      "cell_type": "markdown",
      "metadata": {
        "id": "view-in-github",
        "colab_type": "text"
      },
      "source": [
        "<a href=\"https://colab.research.google.com/github/manasdhir/AI-algorithms/blob/main/AI%20algos.ipynb\" target=\"_parent\"><img src=\"https://colab.research.google.com/assets/colab-badge.svg\" alt=\"Open In Colab\"/></a>"
      ]
    },
    {
      "cell_type": "markdown",
      "source": [
        "#bfs"
      ],
      "metadata": {
        "id": "XDwZO43DlCMm"
      }
    },
    {
      "cell_type": "code",
      "execution_count": 1,
      "metadata": {
        "id": "85JRzrCAhdDQ"
      },
      "outputs": [],
      "source": [
        "def bfs(g,start,goal):\n",
        "  visited={}\n",
        "  for i in g:\n",
        "    visited[i]=False\n",
        "  q=[]\n",
        "  if start==goal:\n",
        "    return \"Goal found\"\n",
        "  visited[start]=True\n",
        "  q.append(start)\n",
        "  while q:\n",
        "    curr=q.pop(0)\n",
        "    print(curr, end=\" \")\n",
        "    if curr==goal:\n",
        "      return \"\\nGoal found\"\n",
        "    for j in g[curr]:\n",
        "      if not visited[j]:\n",
        "        visited[j]=True\n",
        "        q.append(j)\n",
        "  return \"\\ngoal not found\"\n",
        "g={1:[2,3],2:[4,5],3:[6,7],4:[],5:[],6:[],7:[]}\n",
        "goal=7\n",
        "print(bfs(g,1,7))"
      ]
    },
    {
      "cell_type": "markdown",
      "source": [
        "dfs"
      ],
      "metadata": {
        "id": "F9dbkv52lERz"
      }
    },
    {
      "cell_type": "code",
      "source": [
        "def dfs(visited, node, goal, graph):\n",
        "    print(node)\n",
        "    visited[node] = True\n",
        "\n",
        "    if node == goal:\n",
        "        return \"Goal found\"\n",
        "\n",
        "    for neighbor in graph[node]:\n",
        "        if not visited[neighbor]:\n",
        "            result = dfs(visited, neighbor, goal, graph)\n",
        "            if result == \"Goal found\":\n",
        "                return result\n",
        "\n",
        "    return \"Goal not found\""
      ],
      "metadata": {
        "id": "mPLi94shimgf"
      },
      "execution_count": 22,
      "outputs": []
    },
    {
      "cell_type": "code",
      "source": [
        "g={1:[2,3],2:[4,5],3:[6,7],4:[],5:[],6:[],7:[]}\n",
        "goal=7\n",
        "visited={}\n",
        "for i in g:\n",
        "  visited[i]=False"
      ],
      "metadata": {
        "id": "gSOBVQsRkKcl"
      },
      "execution_count": 25,
      "outputs": []
    },
    {
      "cell_type": "code",
      "source": [
        "dfs(visited,1,7,g)"
      ],
      "metadata": {
        "colab": {
          "base_uri": "https://localhost:8080/",
          "height": 53
        },
        "id": "HgD9pYyekP29",
        "outputId": "097ffb21-1f76-4363-bcf6-682df74bb699"
      },
      "execution_count": 27,
      "outputs": [
        {
          "output_type": "stream",
          "name": "stdout",
          "text": [
            "1\n"
          ]
        },
        {
          "output_type": "execute_result",
          "data": {
            "text/plain": [
              "'Goal not found'"
            ],
            "application/vnd.google.colaboratory.intrinsic+json": {
              "type": "string"
            }
          },
          "metadata": {},
          "execution_count": 27
        }
      ]
    },
    {
      "cell_type": "markdown",
      "source": [
        "#iterative deepening dfs"
      ],
      "metadata": {
        "id": "HCOI7yHLlF0U"
      }
    },
    {
      "cell_type": "code",
      "source": [
        "def dfs(visited, node, goal, graph,max_depth,traversed_values,curr_depth=0):\n",
        "    if(curr_depth>max_depth):\n",
        "      return \"depth limit reached\"\n",
        "\n",
        "    traversed_values.append(node)\n",
        "    visited[node] = True\n",
        "\n",
        "    if node == goal:\n",
        "        return \"Goal found\"\n",
        "\n",
        "    for neighbor in graph[node]:\n",
        "        if not visited[neighbor]:\n",
        "            result = dfs(visited, neighbor, goal, graph,max_depth,traversed_values,curr_depth+1)\n",
        "            if result == \"Goal found\":\n",
        "                return result\n",
        "\n",
        "    return \"Goal not found\""
      ],
      "metadata": {
        "id": "uxaacBiYkTTb"
      },
      "execution_count": 37,
      "outputs": []
    },
    {
      "cell_type": "code",
      "source": [
        "def iddfs(g,start,goal):\n",
        "  max_d=0\n",
        "  while True:\n",
        "      visited={}\n",
        "      for i in g:\n",
        "        visited[i]=False\n",
        "      traversed_values=[]\n",
        "      result=dfs(visited,start,goal,g,max_d,traversed_values)\n",
        "      print(f\"iteration{max_d}:{traversed_values}\")\n",
        "      if result==\"Goal found\":\n",
        "        return result\n",
        "      max_d+=1"
      ],
      "metadata": {
        "id": "x3eqtzollg-k"
      },
      "execution_count": 38,
      "outputs": []
    },
    {
      "cell_type": "code",
      "source": [
        "g = {1: [2, 3], 2: [4, 5], 3: [6, 7], 4: [], 5: [], 6: [], 7: []}\n",
        "goal = 7\n",
        "iddfs(g, 1, goal)"
      ],
      "metadata": {
        "colab": {
          "base_uri": "https://localhost:8080/",
          "height": 88
        },
        "id": "_SwMRA9nmcll",
        "outputId": "f0f0ea8d-23f5-4c9b-a497-0dbdb41f1e85"
      },
      "execution_count": 41,
      "outputs": [
        {
          "output_type": "stream",
          "name": "stdout",
          "text": [
            "iteration0:[1]\n",
            "iteration1:[1, 2, 3]\n",
            "iteration2:[1, 2, 4, 5, 3, 6, 7]\n"
          ]
        },
        {
          "output_type": "execute_result",
          "data": {
            "text/plain": [
              "'Goal found'"
            ],
            "application/vnd.google.colaboratory.intrinsic+json": {
              "type": "string"
            }
          },
          "metadata": {},
          "execution_count": 41
        }
      ]
    },
    {
      "cell_type": "markdown",
      "source": [
        "A*"
      ],
      "metadata": {
        "id": "3yeyEHX8nXo4"
      }
    },
    {
      "cell_type": "code",
      "source": [
        "import heapq\n",
        "\n",
        "graph = {\n",
        "    'S': [('A', 1), ('B', 4)],\n",
        "    'A': [('B', 2), ('C', 5), ('D', 12)],\n",
        "    'B': [('C', 2)],\n",
        "    'C': [('D', 3)],\n",
        "    'D': [],\n",
        "}\n",
        "\n",
        "heuristics = {\n",
        "    'S': 8,\n",
        "    'A': 7,\n",
        "    'B': 3,\n",
        "    'C': 2,\n",
        "    'D': 1\n",
        "}\n",
        "\n",
        "start_node = 'S'\n",
        "goal_node = 'D'\n",
        "\n",
        "def astar_search(graph, start, goal, heuristics):\n",
        "    open_list = [(0, start)]\n",
        "    visited = {node: False for node in graph}\n",
        "    g_costs = {node: float('inf') for node in graph}\n",
        "    g_costs[start] = 0\n",
        "    parents = {}\n",
        "\n",
        "    while open_list:\n",
        "        _, current = heapq.heappop(open_list)\n",
        "        if current == goal:\n",
        "            path = [current]\n",
        "            while current != start:\n",
        "                current = parents[current]\n",
        "                path.append(current)\n",
        "            path.reverse()\n",
        "            return path\n",
        "\n",
        "        if not visited[current]:\n",
        "            visited[current] = True\n",
        "            for neighbor, cost in graph[current]:\n",
        "                tentative_g_cost = g_costs[current] + cost\n",
        "\n",
        "                if tentative_g_cost < g_costs[neighbor]:\n",
        "                    g_costs[neighbor] = tentative_g_cost\n",
        "                    f_cost = tentative_g_cost + heuristics[neighbor]\n",
        "                    heapq.heappush(open_list, (f_cost, neighbor))\n",
        "                    parents[neighbor] = current\n",
        "    return None\n",
        "print(astar_search(graph,start_node,goal_node,heuristics))"
      ],
      "metadata": {
        "colab": {
          "base_uri": "https://localhost:8080/"
        },
        "id": "MyZs9nXBmhap",
        "outputId": "54a080a1-c2c0-47b2-a5b3-f5276899406a"
      },
      "execution_count": 42,
      "outputs": [
        {
          "output_type": "stream",
          "name": "stdout",
          "text": [
            "['S', 'A', 'B', 'C', 'D']\n"
          ]
        }
      ]
    },
    {
      "cell_type": "markdown",
      "source": [
        "#minimax"
      ],
      "metadata": {
        "id": "aXL_5OpCtYRs"
      }
    },
    {
      "cell_type": "code",
      "source": [
        "def minimax(node, depth, is_maximizing_player):\n",
        "    if node in terminal_nodes:\n",
        "        return terminal_nodes[node]\n",
        "\n",
        "    if is_maximizing_player:\n",
        "        best_value = float('-inf')\n",
        "        for child in tree[node]:\n",
        "            value = minimax(child, depth + 1, False)\n",
        "            best_value = max(best_value, value)\n",
        "        return best_value\n",
        "    else:\n",
        "        best_value = float('inf')\n",
        "        for child in tree[node]:\n",
        "            value = minimax(child, depth + 1, True)\n",
        "            best_value = min(best_value, value)\n",
        "        return best_value\n",
        "\n",
        "# Define a function to find the optimal path\n",
        "def find_optimal_path(node, is_maximizing_player):\n",
        "    optimal_value = minimax(node, 0, is_maximizing_player)\n",
        "    path = [node]\n",
        "\n",
        "    while node in tree:\n",
        "        if is_maximizing_player:\n",
        "            best_value = float('-inf')\n",
        "            best_node = None\n",
        "            for child in tree[node]:\n",
        "                value = minimax(child, 0, not is_maximizing_player)\n",
        "                if value > best_value:\n",
        "                    best_value = value\n",
        "                    best_node = child\n",
        "        else:\n",
        "            best_value = float('inf')\n",
        "            best_node = None\n",
        "            for child in tree[node]:\n",
        "                value = minimax(child, 0, not is_maximizing_player)\n",
        "                if value < best_value:\n",
        "                    best_value = value\n",
        "                    best_node = child\n",
        "        path.append(best_node)\n",
        "        node = best_node\n",
        "        is_maximizing_player = not is_maximizing_player\n",
        "\n",
        "    return optimal_value, path\n",
        "terminal_nodes = {\n",
        "    'H': -3,\n",
        "    'I': 5,\n",
        "    'J': 1,\n",
        "    'K': 4,\n",
        "    'L': -1,\n",
        "    'M': -7,\n",
        "    'N': 0,\n",
        "    'O': 6\n",
        "}\n",
        "\n",
        "\n",
        "tree = {\n",
        "    'A': ['B', 'C'],\n",
        "    'B': ['D', 'E'],\n",
        "    'C': ['F', 'G'],\n",
        "    'D': ['H', 'I'],\n",
        "    'E': ['J', 'K'],\n",
        "    'F': ['L', 'M'],\n",
        "    'G': ['N', 'O']\n",
        "}\n",
        "\n",
        "optimal_value, optimal_path = find_optimal_path('A', True)\n",
        "\n",
        "print(f\"The optimal value is {optimal_value} and the optimal path is {' -> '.join(optimal_path)}\")"
      ],
      "metadata": {
        "colab": {
          "base_uri": "https://localhost:8080/"
        },
        "id": "VHgZsu3utL-R",
        "outputId": "e8c6c74c-b508-45f9-f67f-d3d1bfcdd8f3"
      },
      "execution_count": 46,
      "outputs": [
        {
          "output_type": "stream",
          "name": "stdout",
          "text": [
            "The optimal value is 4 and the optimal path is A -> B -> E -> K\n"
          ]
        }
      ]
    },
    {
      "cell_type": "markdown",
      "source": [
        "#depth limited search"
      ],
      "metadata": {
        "id": "L5iK7L1u1m7A"
      }
    },
    {
      "cell_type": "code",
      "source": [
        "def dfs_recursive(graph, node, visited, depth_limit, goal):\n",
        "    if depth_limit == 0:\n",
        "        return\n",
        "    visited[node] = True\n",
        "    print(node, end=' ')\n",
        "    if node == goal:\n",
        "        return \"Goal found\"\n",
        "    for neighbor in graph[node]:\n",
        "        if not visited[neighbor]:\n",
        "            result = dfs_recursive(graph, neighbor, visited, depth_limit - 1, goal)\n",
        "            if result == \"Goal found\":\n",
        "                return \"Goal found\"\n",
        "\n",
        "def depth_limited_search(graph, start_node, depth_limit, goal):\n",
        "    visited = {node: False for node in graph}\n",
        "    return dfs_recursive(graph, start_node, visited, depth_limit, goal)\n",
        "\n",
        "graph = {\n",
        "    'A': ['B', 'C'],\n",
        "    'B': ['D', 'E'],\n",
        "    'C': ['F'],\n",
        "    'D': [],\n",
        "    'E': [],\n",
        "    'F': []\n",
        "}\n",
        "\n",
        "start_node = 'A'\n",
        "depth_limit = 2\n",
        "goal = 'C'\n",
        "result = depth_limited_search(graph, start_node, depth_limit, goal)\n",
        "if result == \"Goal found\":\n",
        "    print(\"\\nGoal found\")\n",
        "else:\n",
        "    print(\"\\nGoal not found\")"
      ],
      "metadata": {
        "colab": {
          "base_uri": "https://localhost:8080/"
        },
        "id": "vWEvtXiY1SgK",
        "outputId": "df7ee408-5368-4c3f-f73f-61ef1bbcbfc7"
      },
      "execution_count": 48,
      "outputs": [
        {
          "output_type": "stream",
          "name": "stdout",
          "text": [
            "A B C \n",
            "Goal found\n"
          ]
        }
      ]
    },
    {
      "cell_type": "code",
      "source": [
        "MAX = float('inf')\n",
        "MIN = -float('inf')\n",
        "def minimax(depth, nodeIndex, maximizingPlayer, values, alpha, beta):\n",
        "    if depth == 3:\n",
        "        return values[nodeIndex]\n",
        "\n",
        "    if maximizingPlayer:\n",
        "        best = MIN\n",
        "        for i in range(2):\n",
        "            val = minimax(depth + 1, nodeIndex * 2 + i, False, values, alpha, beta)\n",
        "            best = max(best, val)\n",
        "            alpha = max(alpha, best)\n",
        "            if beta <= alpha:\n",
        "                break\n",
        "        return best\n",
        "\n",
        "    else:\n",
        "        best = MAX\n",
        "        for i in range(2):\n",
        "            val = minimax(depth + 1, nodeIndex * 2 + i, True, values, alpha, beta)\n",
        "            best = min(best, val)\n",
        "            beta = min(beta, best)\n",
        "            if beta <= alpha:\n",
        "                break\n",
        "        return best\n",
        "values = [3, 5, 6, 9, 1, 2, 0,-1]\n",
        "print(\"The optimal value is:\", minimax(0, 0, True, values, MIN, MAX))"
      ],
      "metadata": {
        "colab": {
          "base_uri": "https://localhost:8080/"
        },
        "id": "lTRLRI8E1mLj",
        "outputId": "63eccb3d-ed85-4bc0-a389-3e1bb74c0995"
      },
      "execution_count": 49,
      "outputs": [
        {
          "output_type": "stream",
          "name": "stdout",
          "text": [
            "The optimal value is: 5\n"
          ]
        }
      ]
    },
    {
      "cell_type": "markdown",
      "source": [
        "#water jug problem"
      ],
      "metadata": {
        "id": "beyj2HUV2Q10"
      }
    },
    {
      "cell_type": "code",
      "source": [
        "from collections import deque\n",
        "def pour(state, jug1, jug2):\n",
        "    amt = min(state[jug1], (jug_caps[jug2] - state[jug2]))\n",
        "    new_state = list(state)\n",
        "    new_state[jug1] -= amt\n",
        "    new_state[jug2] += amt\n",
        "    return tuple(new_state)\n",
        "def get_successors(state):\n",
        "    successors = []\n",
        "    for jug1, jug2 in [(0, 1), (1, 0)]:\n",
        "        new_state = pour(state, jug1, jug2)\n",
        "        if new_state != state:\n",
        "            successors.append(new_state)\n",
        "    for jug in [0, 1]:\n",
        "        new_state = list(state)\n",
        "        new_state[jug] = jug_caps[jug]\n",
        "        successors.append(tuple(new_state))\n",
        "    for jug in [0, 1]:\n",
        "        new_state = list(state)\n",
        "        new_state[jug] = 0\n",
        "        successors.append(tuple(new_state))\n",
        "\n",
        "    return successors\n",
        "def heuristic(state, goal):\n",
        "    return sum(abs(state[i] - goal[i]) for i in range(len(state)))\n",
        "def a_star(start, goal):\n",
        "    open_list = [(heuristic(start, goal), 0, start)]  # (f, g, state)\n",
        "    closed_list = set()\n",
        "    parent = {start: None}\n",
        "    while open_list:\n",
        "        _, g, curr_state = open_list.pop(0)\n",
        "        if curr_state == goal:\n",
        "            path = deque()\n",
        "            state = curr_state\n",
        "            while state is not None:\n",
        "                path.appendleft(state)\n",
        "                state = parent[state]\n",
        "            return list(path)\n",
        "        closed_list.add(curr_state)\n",
        "        for succ_state in get_successors(curr_state):\n",
        "            succ_g = g + 1  # Assuming the cost of each step is 1\n",
        "            if succ_state not in closed_list:\n",
        "                succ_cost = succ_g + heuristic(succ_state, goal)\n",
        "                open_list.append((succ_cost, succ_g, succ_state))\n",
        "                open_list.sort()\n",
        "                parent[succ_state] = curr_state\n",
        "    return None\n",
        "jug_caps = (4, 3)\n",
        "start_state = (0, 0)\n",
        "goal_state = (2, 0)\n",
        "solution = a_star(start_state, goal_state)\n",
        "if solution:\n",
        "    print(\"Solution:\")\n",
        "    for state in solution:\n",
        "        print(state)\n",
        "else:\n",
        "    print(\"No solution exists.\")"
      ],
      "metadata": {
        "colab": {
          "base_uri": "https://localhost:8080/"
        },
        "id": "FpwRHIiv2Ma_",
        "outputId": "bd4ef405-4ae9-4409-8c77-c4d781ec9465"
      },
      "execution_count": 50,
      "outputs": [
        {
          "output_type": "stream",
          "name": "stdout",
          "text": [
            "Solution:\n",
            "(0, 0)\n",
            "(0, 3)\n",
            "(3, 0)\n",
            "(3, 3)\n",
            "(4, 2)\n",
            "(0, 2)\n",
            "(2, 0)\n"
          ]
        }
      ]
    },
    {
      "cell_type": "code",
      "source": [
        "import numpy as np\n",
        "import matplotlib.pyplot as plt\n",
        "def triangular(x, a, b, c):\n",
        "    return np.maximum(np.minimum((x-a)/(b-a), (c-x)/(c-b)), 0)\n",
        "x = np.linspace(0, 10, 1000)\n",
        "a, b, c = 1, 8, 10\n",
        "y = triangular(x, a, b, c)\n",
        "plt.plot(x, y, label=f'Triangular(a={a}, b={b}, c={c})')\n",
        "plt.xlabel('x')\n",
        "plt.ylabel('Membership degree')\n",
        "plt.title('Triangular Membership Function')\n",
        "plt.legend()\n",
        "plt.grid(True)\n",
        "plt.show()"
      ],
      "metadata": {
        "colab": {
          "base_uri": "https://localhost:8080/",
          "height": 472
        },
        "id": "cNf8VgBK2S6W",
        "outputId": "d3f91410-ec77-4031-9297-b5de5917b120"
      },
      "execution_count": 51,
      "outputs": [
        {
          "output_type": "display_data",
          "data": {
            "text/plain": [
              "<Figure size 640x480 with 1 Axes>"
            ],
            "image/png": "[encoded data removed]"
          },
          "metadata": {}
        }
      ]
    },
    {
      "cell_type": "code",
      "source": [
        "import numpy as np\n",
        "import matplotlib.pyplot as plt\n",
        "\n",
        "def gaussian(x, mu, sigma):\n",
        "    return np.exp(-0.5 * ((x - mu) / sigma) ** 2)\n",
        "\n",
        "x = np.linspace(0, 10, 1000)\n",
        "mu, sigma = 5, 1.5\n",
        "y = gaussian(x, mu, sigma)\n",
        "\n",
        "plt.plot(x, y, label=f'Gaussian(mu={mu}, sigma={sigma})')\n",
        "plt.xlabel('x')\n",
        "plt.ylabel('Membership degree')\n",
        "plt.title('Gaussian Membership Function')\n",
        "plt.legend()\n",
        "plt.grid(True)\n",
        "plt.show()"
      ],
      "metadata": {
        "colab": {
          "base_uri": "https://localhost:8080/",
          "height": 472
        },
        "id": "JluFE-u-2Xew",
        "outputId": "ab8e13d1-ec6b-44aa-b530-bed3cb20714c"
      },
      "execution_count": 52,
      "outputs": [
        {
          "output_type": "display_data",
          "data": {
            "text/plain": [
              "<Figure size 640x480 with 1 Axes>"
            ],
            "image/png": "[encoded data removed]"
          },
          "metadata": {}
        }
      ]
    },
    {
      "cell_type": "code",
      "source": [
        "import numpy as np\n",
        "import matplotlib.pyplot as plt\n",
        "def trapezoid(x, a, b, c, d):\n",
        "           return np.maximum(np.minimum(np.minimum((x-a)/(b-a),1),(d-x)/(d-c)), 0)\n",
        "x = np.linspace(0, 10, 1000)\n",
        "a, b, c, d = 2, 4, 6, 8\n",
        "y = trapezoid(x, a, b, c, d)\n",
        "plt.plot(x, y, label=f'Trapezoid(a={a}, b={b}, c={c}, d={d})')\n",
        "plt.xlabel('x')\n",
        "plt.ylabel('Membership degree')\n",
        "plt.title('Trapezoid Membership Function')\n",
        "plt.legend()\n",
        "plt.grid(True)\n",
        "plt.show()"
      ],
      "metadata": {
        "colab": {
          "base_uri": "https://localhost:8080/",
          "height": 472
        },
        "id": "-jWBFRHm2ZTR",
        "outputId": "5d6aa8f7-3963-4146-ca33-4b9f3702bcc6"
      },
      "execution_count": 53,
      "outputs": [
        {
          "output_type": "display_data",
          "data": {
            "text/plain": [
              "<Figure size 640x480 with 1 Axes>"
            ],
            "image/png": "[encoded data removed]"
          },
          "metadata": {}
        }
      ]
    },
    {
      "cell_type": "code",
      "source": [],
      "metadata": {
        "id": "mUsFkzfZ2cqC"
      },
      "execution_count": null,
      "outputs": []
    }
  ]
}